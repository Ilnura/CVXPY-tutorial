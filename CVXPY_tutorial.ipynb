{
 "cells": [
  {
   "cell_type": "markdown",
   "metadata": {},
   "source": [
    "# Solving LP and QP with CVXPY"
   ]
  },
  {
   "cell_type": "markdown",
   "metadata": {},
   "source": [
    "# https://www.cvxpy.org"
   ]
  },
  {
   "cell_type": "markdown",
   "metadata": {},
   "source": [
    "CVXPY relies on the open source solvers ECOS, OSQP, and SCS. Additional solvers are supported, but must be installed separately. "
   ]
  },
  {
   "cell_type": "markdown",
   "metadata": {},
   "source": [
    "# Functions and operators: \n",
    "### - .T transpose\n",
    "### - @ matrix-vector or vector-vector multiplication\n",
    "### - quad_form(x,P) $x^TPx$\n",
    "### - matrix_frac(x, P) $x^TP^{-1}x$"
   ]
  },
  {
   "cell_type": "markdown",
   "metadata": {},
   "source": [
    "### https://www.cvxpy.org/tutorial/functions/index.html"
   ]
  },
  {
   "cell_type": "markdown",
   "metadata": {},
   "source": [
    "### Import packages."
   ]
  },
  {
   "cell_type": "code",
   "execution_count": 2,
   "metadata": {},
   "outputs": [
    {
     "name": "stdout",
     "output_type": "stream",
     "text": [
      "xcode-select: note: install requested for command line developer tools\r\n"
     ]
    }
   ],
   "source": [
    "# For osx users, make sure you have developer tools installed\n",
    "# xcode-select --install"
   ]
  },
  {
   "cell_type": "code",
   "execution_count": 3,
   "metadata": {},
   "outputs": [],
   "source": [
    "import cvxpy as cp\n",
    "import numpy as np"
   ]
  },
  {
   "cell_type": "code",
   "execution_count": 4,
   "metadata": {},
   "outputs": [],
   "source": [
    "A = np.array([[0, 1],\n",
    "     [1, 0]])\n",
    "b = np.array([1, 2])"
   ]
  },
  {
   "cell_type": "code",
   "execution_count": 8,
   "metadata": {},
   "outputs": [],
   "source": [
    "# A @ b"
   ]
  },
  {
   "cell_type": "markdown",
   "metadata": {},
   "source": [
    "# Linear Programming"
   ]
  },
  {
   "cell_type": "markdown",
   "metadata": {},
   "source": [
    "\\begin{align} \n",
    "\\text{minimize } &c^Tx\\\\\n",
    "\\text{subject to } &Ax\\leq b\n",
    "\\end{align}"
   ]
  },
  {
   "cell_type": "markdown",
   "metadata": {},
   "source": [
    "### Generate a random non-trivial linear program."
   ]
  },
  {
   "cell_type": "code",
   "execution_count": 21,
   "metadata": {},
   "outputs": [],
   "source": [
    "m = 15\n",
    "n = 10\n",
    "np.random.seed(1)\n",
    "s0 = np.random.randn(m)\n",
    "lamb0 = np.maximum(-s0, 0)\n",
    "s0 = np.maximum(s0, 0)\n",
    "x0 = np.random.randn(n)\n",
    "A = np.random.randn(m, n)\n",
    "b = A @ x0 + s0\n",
    "c = -A.T @ lamb0"
   ]
  },
  {
   "cell_type": "markdown",
   "metadata": {},
   "source": [
    "### Define and solve the CVXPY problem."
   ]
  },
  {
   "cell_type": "code",
   "execution_count": 22,
   "metadata": {},
   "outputs": [
    {
     "data": {
      "text/plain": [
       "-15.220912604449774"
      ]
     },
     "execution_count": 22,
     "metadata": {},
     "output_type": "execute_result"
    }
   ],
   "source": [
    "x = cp.Variable(n)\n",
    "prob = cp.Problem(cp.Minimize(c.T @ x), [A @ x <= b])\n",
    "prob.solve()"
   ]
  },
  {
   "cell_type": "markdown",
   "metadata": {},
   "source": [
    "### Print result."
   ]
  },
  {
   "cell_type": "code",
   "execution_count": 23,
   "metadata": {},
   "outputs": [
    {
     "name": "stdout",
     "output_type": "stream",
     "text": [
      "\n",
      "The optimal value is -15.220912604449774\n",
      "A solution x is\n",
      "[-1.09462326 -0.20466376 -0.80667962  0.07890685  0.49481543 -1.0047415\n",
      "  1.19966687  0.97398692  0.54537495  0.90952462]\n",
      "A dual solution is\n",
      "[1.27313592e-13 6.11756414e-01 5.28171752e-01 1.07296862e+00\n",
      " 5.97228032e-13 2.30153870e+00 2.13913306e-13 7.61206901e-01\n",
      " 8.20205732e-12 2.49370375e-01 1.40387338e-13 2.06014071e+00\n",
      " 3.22417204e-01 3.84054355e-01 3.10002354e-12]\n"
     ]
    }
   ],
   "source": [
    "print(\"\\nThe optimal value is\", prob.value)\n",
    "print(\"A solution x is\")\n",
    "print(x.value)\n",
    "print(\"A dual solution is\")\n",
    "print(prob.constraints[0].dual_value)"
   ]
  },
  {
   "cell_type": "markdown",
   "metadata": {},
   "source": [
    "# Quadratic Program."
   ]
  },
  {
   "cell_type": "markdown",
   "metadata": {},
   "source": [
    "\\begin{align} \n",
    "\\text{minimize } &\\frac{1}{2}x^TPx + q^Tx \\\\\n",
    "\\text{subject to } &Gx\\leq h \\\\\n",
    "                    &Ax= b\n",
    "\\end{align}"
   ]
  },
  {
   "cell_type": "markdown",
   "metadata": {},
   "source": [
    "### Generate a random non-trivial quadratic program."
   ]
  },
  {
   "cell_type": "code",
   "execution_count": 42,
   "metadata": {
    "scrolled": true
   },
   "outputs": [],
   "source": [
    "m = 15\n",
    "n = 10\n",
    "p = 5\n",
    "np.random.seed(1)\n",
    "P = np.random.randn(n, n)\n",
    "P = P.T @ P\n",
    "q = np.random.randn(n)\n",
    "G = np.random.randn(m, n)\n",
    "h = G @ np.random.randn(n)\n",
    "A = np.random.randn(p, n)\n",
    "b = np.random.randn(p)"
   ]
  },
  {
   "cell_type": "markdown",
   "metadata": {},
   "source": [
    "### Define and solve the CVXPY problem."
   ]
  },
  {
   "cell_type": "code",
   "execution_count": 59,
   "metadata": {},
   "outputs": [],
   "source": [
    "x = cp.Variable(n)\n",
    "obj = (1/2) * cp.quad_form(x, P) + q.T @ x\n",
    "prob = cp.Problem(cp.Minimize(obj),\n",
    "                    [G @ x <= h,\n",
    "                     A @ x == b])"
   ]
  },
  {
   "cell_type": "code",
   "execution_count": 60,
   "metadata": {},
   "outputs": [
    {
     "data": {
      "text/plain": [
       "86.89141585569912"
      ]
     },
     "execution_count": 60,
     "metadata": {},
     "output_type": "execute_result"
    }
   ],
   "source": [
    "prob.solve()"
   ]
  },
  {
   "cell_type": "markdown",
   "metadata": {},
   "source": [
    "### Print result."
   ]
  },
  {
   "cell_type": "code",
   "execution_count": 48,
   "metadata": {
    "scrolled": true
   },
   "outputs": [
    {
     "name": "stdout",
     "output_type": "stream",
     "text": [
      "\n",
      "The optimal value is 86.89141585569912\n",
      "A solution x is\n",
      "[-1.68244521  0.29769913 -2.38772183 -2.79986015  1.18270433 -0.20911897\n",
      " -4.50993526  3.76683701 -0.45770675 -3.78589638]\n",
      "A dual solution corresponding to the inequality constraints is\n",
      "[ 0.          0.          0.          0.          0.         10.45538054\n",
      "  0.          0.          0.         39.67365045  0.          0.\n",
      "  0.         20.79927156  6.54115873]\n",
      "[-4.00594325  0.67788482 36.2406246  18.40408038 27.97777688]\n"
     ]
    }
   ],
   "source": [
    "print(\"\\nThe optimal value is\", prob.value)\n",
    "print(\"A solution x is\")\n",
    "print(x.value)\n",
    "print(\"A dual solution corresponding to the inequality constraints is\")\n",
    "print(prob.constraints[0].dual_value)\n",
    "print(prob.constraints[1].dual_value)\n"
   ]
  },
  {
   "cell_type": "code",
   "execution_count": 50,
   "metadata": {},
   "outputs": [
    {
     "name": "stdout",
     "output_type": "stream",
     "text": [
      "{417: array([-1.68244521,  0.29769913, -2.38772183, -2.79986015,  1.18270433,\n",
      "       -0.20911897, -4.50993526,  3.76683701, -0.45770675, -3.78589638])}\n"
     ]
    }
   ],
   "source": [
    "print(prob.solution.primal_vars)"
   ]
  },
  {
   "cell_type": "markdown",
   "metadata": {},
   "source": [
    "# Regression "
   ]
  },
  {
   "cell_type": "code",
   "execution_count": 68,
   "metadata": {},
   "outputs": [],
   "source": [
    "%matplotlib inline\n",
    "import matplotlib.pyplot as plt\n",
    "np.random.seed(5)"
   ]
  },
  {
   "cell_type": "markdown",
   "metadata": {},
   "source": [
    "### Initialize some data with gaussian random noise"
   ]
  },
  {
   "cell_type": "code",
   "execution_count": 69,
   "metadata": {
    "scrolled": false
   },
   "outputs": [
    {
     "data": {
      "text/plain": [
       "<matplotlib.collections.PathCollection at 0x1220c6390>"
      ]
     },
     "execution_count": 69,
     "metadata": {},
     "output_type": "execute_result"
    },
    {
     "data": {
      "image/png": "[encoded data removed]",
      "text/plain": [
       "<Figure size 432x288 with 1 Axes>"
      ]
     },
     "metadata": {
      "needs_background": "light"
     },
     "output_type": "display_data"
    }
   ],
   "source": [
    "x = np.arange(50)\n",
    "y = 0.5 * x + 5 + np.random.standard_normal(50)\n",
    "plt.scatter(x, y)"
   ]
  },
  {
   "cell_type": "markdown",
   "metadata": {},
   "source": [
    " $$\\text{minimize}_{w,b} \\sum_{i=1}^n (w * x_i + b - y_i)^2$$"
   ]
  },
  {
   "cell_type": "markdown",
   "metadata": {},
   "source": [
    "### Perturb it!"
   ]
  },
  {
   "cell_type": "code",
   "execution_count": 7,
   "metadata": {
    "scrolled": true
   },
   "outputs": [],
   "source": [
    "for i in range(40):\n",
    "    if np.random.random() < 0.1:\n",
    "        y[i] += 10\n",
    "plt.scatter(x, y)"
   ]
  },
  {
   "cell_type": "markdown",
   "metadata": {},
   "source": [
    "### Try linear regression"
   ]
  },
  {
   "cell_type": "code",
   "execution_count": 73,
   "metadata": {
    "scrolled": false
   },
   "outputs": [],
   "source": [
    "# P = np.random.normal((50,50))\n",
    "w = cp.Variable()\n",
    "b = cp.Variable()\n",
    "obj = 0\n",
    "for i in range(50):\n",
    "    obj += (w * x[i] + b - y[i]) ** 2\n",
    "# cp.Problem(cp.Minimize(obj), [cp.quad_form(x,np.eye(n)) == 1]).solve()\n",
    "w = w.value\n",
    "b = b.value"
   ]
  },
  {
   "cell_type": "code",
   "execution_count": 65,
   "metadata": {
    "scrolled": true
   },
   "outputs": [
    {
     "data": {
      "text/plain": [
       "[<matplotlib.lines.Line2D at 0x103ca1b10>]"
      ]
     },
     "execution_count": 65,
     "metadata": {},
     "output_type": "execute_result"
    },
    {
     "data": {
      "image/png": "[encoded data removed]",
      "text/plain": [
       "<Figure size 432x288 with 1 Axes>"
      ]
     },
     "metadata": {
      "needs_background": "light"
     },
     "output_type": "display_data"
    }
   ],
   "source": [
    "plt.scatter(x,y)\n",
    "plt.plot(x, x * w + b)"
   ]
  },
  {
   "cell_type": "markdown",
   "metadata": {},
   "source": [
    "# Disciplined Convex Programming\n",
    "### https://dcp.stanford.edu/rules\n",
    "Disciplined convex programming (DCP) is a system for constructing mathematical expressions with known curvature from a given library of base functions. \n",
    "- CVXPY uses DCP to ensure that the specified optimization problems are convex.  DCP analysis is based on applying a general composition theorem from convex analysis to each (sub)expression."
   ]
  },
  {
   "cell_type": "markdown",
   "metadata": {},
   "source": [
    "# Control\n",
    "\n",
    "Convex optimization can be used to solve many problems that arise in control.\n",
    "In this example we show how to solve such a problem using CVXPY.\n",
    "We have a system with a state $x_t\\in {\\bf R}^n$ that varies over the time steps $t=0,\\ldots,T$, and inputs or actions $u_t\\in {\\bf R}^m$ we can use at each time step to affect the state.\n",
    "For example, $x_t$ might be the position and velocity of a rocket and $u_t$ the output of the rocket's thrusters.\n",
    "We model the evolution of the state as a linear dynamical system, i.e.,\n",
    "\n",
    "$$ x_{t+1} = Ax_t + Bu_t $$\n",
    "\n",
    "where $A \\in {\\bf R}^{n\\times n}$ and $B \\in {\\bf R}^{n\\times m}$ are known matrices.\n",
    "\n",
    "Our goal is to find the optimal actions $u_0,\\ldots,u_{T-1}$ by solving the optimization problems\n",
    "\n",
    "\\begin{array}{ll} \\mbox{minimize} & \\sum_{t=0}^{T-1} \\ell (x_t,u_t) + \\ell_T(x_T)\\\\\n",
    "\\mbox{subject to} & x_{t+1} = Ax_t + Bu_t\\\\%, \\quad t=0, \\ldots, T-1\\\\\n",
    "& (x_t,u_t) \\in \\mathcal C, \\quad x_T\\in \\mathcal C_T,\n",
    "%, \\quad \\quad t=0, \\ldots, T\n",
    "\\end{array}\n",
    "\n",
    "where $\\ell: {\\bf R}^n \\times {\\bf R}^m\\to {\\bf R}$ is the stage cost, $\\ell_T$ is the terminal cost,\n",
    "$\\mathcal C$ is the state/action constraints, and $\\mathcal C_T$ is the terminal constraint.\n",
    "The optimization problem is convex if the costs and constraints are convex.\n",
    "\n",
    "\n",
    "### Example\n",
    "\n",
    "In the following code we solve a control problem with $n=8$ states, $m=2$ inputs, and horizon $T=50$.\n",
    "The matrices $A$ and $B$ and the initial state $x_0$ are randomly chosen (with $A\\approx I$).\n",
    "We use the (traditional) stage cost $\\ell(x,u) = \\|x\\|_2^2 + \\|u\\|_2^2$, the input constraint $\\|u_t\\|_\\infty \\leq 1$, and the terminal constraint $x_{T}=0$.\n",
    "\n"
   ]
  },
  {
   "cell_type": "code",
   "execution_count": null,
   "metadata": {},
   "outputs": [],
   "source": [
    "# Generate data for control problem.\n",
    "import numpy as np\n",
    "np.random.seed(1)\n",
    "n = 8\n",
    "m = 2\n",
    "T = 50\n",
    "alpha = 0.2\n",
    "beta = 5\n",
    "A = np.eye(n) + alpha*np.random.randn(n,n)\n",
    "B = np.random.randn(n,m)\n",
    "x_0 = beta*np.random.randn(n)\n",
    "\n"
   ]
  },
  {
   "cell_type": "code",
   "execution_count": null,
   "metadata": {},
   "outputs": [],
   "source": [
    "# Form and solve control problem.\n",
    "import cvxpy as cp\n"
   ]
  },
  {
   "cell_type": "code",
   "execution_count": null,
   "metadata": {},
   "outputs": [],
   "source": [
    "# Plot results.\n",
    "import matplotlib.pyplot as plt\n",
    "%matplotlib inline\n",
    "%config InlineBackend.figure_format = 'svg'\n",
    "\n",
    "f = plt.figure()\n",
    "\n",
    "# Plot (u_t)_1.\n",
    "ax = f.add_subplot(411)\n",
    "plt.plot(u[0,:].value)\n",
    "plt.ylabel(r\"$(u_t)_1$\", fontsize=16)\n",
    "plt.yticks(np.linspace(-1.0, 1.0, 3))\n",
    "plt.xticks([])\n",
    "\n",
    "# Plot (u_t)_2.\n",
    "plt.subplot(4,1,2)\n",
    "plt.plot(u[1,:].value)\n",
    "plt.ylabel(r\"$(u_t)_2$\", fontsize=16)\n",
    "plt.yticks(np.linspace(-1, 1, 3))\n",
    "plt.xticks([])\n",
    "\n",
    "# Plot (x_t)_1.\n",
    "plt.subplot(4,1,3)\n",
    "x1 = x[0,:].value\n",
    "plt.plot(x1)\n",
    "plt.ylabel(r\"$(x_t)_1$\", fontsize=16)\n",
    "plt.yticks([-10, 0, 10])\n",
    "plt.ylim([-10, 10])\n",
    "plt.xticks([])\n",
    "\n",
    "# Plot (x_t)_2.\n",
    "plt.subplot(4,1,4)\n",
    "x2 = x[1,:].value\n",
    "plt.plot(range(51), x2)\n",
    "plt.yticks([-25, 0, 25])\n",
    "plt.ylim([-25, 25])\n",
    "plt.ylabel(r\"$(x_t)_2$\", fontsize=16)\n",
    "plt.xlabel(r\"$t$\", fontsize=16)\n",
    "plt.tight_layout()\n",
    "plt.show()"
   ]
  }
 ],
 "metadata": {
  "kernelspec": {
   "display_name": "Python 3",
   "language": "python",
   "name": "python3"
  },
  "language_info": {
   "codemirror_mode": {
    "name": "ipython",
    "version": 3
   },
   "file_extension": ".py",
   "mimetype": "text/x-python",
   "name": "python",
   "nbconvert_exporter": "python",
   "pygments_lexer": "ipython3",
   "version": "3.9.1"
  }
 },
 "nbformat": 4,
 "nbformat_minor": 2
}
